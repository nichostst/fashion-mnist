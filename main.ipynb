{
  "nbformat": 4,
  "nbformat_minor": 0,
  "metadata": {
    "colab": {
      "name": "Sunray-MLE-test-Nicholas.ipynb",
      "provenance": [],
      "collapsed_sections": [],
      "toc_visible": true
    },
    "kernelspec": {
      "name": "python3",
      "display_name": "Python 3"
    },
    "accelerator": "GPU",
    "widgets": {
      "application/vnd.jupyter.widget-state+json": {
        "65007eb6c73f4e6588d756a15f2fc037": {
          "model_module": "@jupyter-widgets/controls",
          "model_name": "HBoxModel",
          "state": {
            "_view_name": "HBoxView",
            "_dom_classes": [],
            "_model_name": "HBoxModel",
            "_view_module": "@jupyter-widgets/controls",
            "_model_module_version": "1.5.0",
            "_view_count": null,
            "_view_module_version": "1.5.0",
            "box_style": "",
            "layout": "IPY_MODEL_e810615bc63f4e7293552c928f8a54b2",
            "_model_module": "@jupyter-widgets/controls",
            "children": [
              "IPY_MODEL_d80a6dbcd19f4237b48bf49ef05200ee",
              "IPY_MODEL_cdd6a23fa1fc45e4ae79b761657843fa"
            ]
          }
        },
        "e810615bc63f4e7293552c928f8a54b2": {
          "model_module": "@jupyter-widgets/base",
          "model_name": "LayoutModel",
          "state": {
            "_view_name": "LayoutView",
            "grid_template_rows": null,
            "right": null,
            "justify_content": null,
            "_view_module": "@jupyter-widgets/base",
            "overflow": null,
            "_model_module_version": "1.2.0",
            "_view_count": null,
            "flex_flow": null,
            "width": null,
            "min_width": null,
            "border": null,
            "align_items": null,
            "bottom": null,
            "_model_module": "@jupyter-widgets/base",
            "top": null,
            "grid_column": null,
            "overflow_y": null,
            "overflow_x": null,
            "grid_auto_flow": null,
            "grid_area": null,
            "grid_template_columns": null,
            "flex": null,
            "_model_name": "LayoutModel",
            "justify_items": null,
            "grid_row": null,
            "max_height": null,
            "align_content": null,
            "visibility": null,
            "align_self": null,
            "height": null,
            "min_height": null,
            "padding": null,
            "grid_auto_rows": null,
            "grid_gap": null,
            "max_width": null,
            "order": null,
            "_view_module_version": "1.2.0",
            "grid_template_areas": null,
            "object_position": null,
            "object_fit": null,
            "grid_auto_columns": null,
            "margin": null,
            "display": null,
            "left": null
          }
        },
        "d80a6dbcd19f4237b48bf49ef05200ee": {
          "model_module": "@jupyter-widgets/controls",
          "model_name": "FloatProgressModel",
          "state": {
            "_view_name": "ProgressView",
            "style": "IPY_MODEL_5a6ea2bc019f494f9e90a2d0c36f5cfb",
            "_dom_classes": [],
            "description": "",
            "_model_name": "FloatProgressModel",
            "bar_style": "success",
            "max": 1,
            "_view_module": "@jupyter-widgets/controls",
            "_model_module_version": "1.5.0",
            "value": 1,
            "_view_count": null,
            "_view_module_version": "1.5.0",
            "orientation": "horizontal",
            "min": 0,
            "description_tooltip": null,
            "_model_module": "@jupyter-widgets/controls",
            "layout": "IPY_MODEL_4fe3810187434f0a9e7d72a0410704f2"
          }
        },
        "cdd6a23fa1fc45e4ae79b761657843fa": {
          "model_module": "@jupyter-widgets/controls",
          "model_name": "HTMLModel",
          "state": {
            "_view_name": "HTMLView",
            "style": "IPY_MODEL_b3bc469213954158a0e1b3b9c8c231c4",
            "_dom_classes": [],
            "description": "",
            "_model_name": "HTMLModel",
            "placeholder": "​",
            "_view_module": "@jupyter-widgets/controls",
            "_model_module_version": "1.5.0",
            "value": " 26427392/? [00:01&lt;00:00, 16237331.36it/s]",
            "_view_count": null,
            "_view_module_version": "1.5.0",
            "description_tooltip": null,
            "_model_module": "@jupyter-widgets/controls",
            "layout": "IPY_MODEL_d9c322653c3347b386e80cfbf2fb48b6"
          }
        },
        "5a6ea2bc019f494f9e90a2d0c36f5cfb": {
          "model_module": "@jupyter-widgets/controls",
          "model_name": "ProgressStyleModel",
          "state": {
            "_view_name": "StyleView",
            "_model_name": "ProgressStyleModel",
            "description_width": "initial",
            "_view_module": "@jupyter-widgets/base",
            "_model_module_version": "1.5.0",
            "_view_count": null,
            "_view_module_version": "1.2.0",
            "bar_color": null,
            "_model_module": "@jupyter-widgets/controls"
          }
        },
        "4fe3810187434f0a9e7d72a0410704f2": {
          "model_module": "@jupyter-widgets/base",
          "model_name": "LayoutModel",
          "state": {
            "_view_name": "LayoutView",
            "grid_template_rows": null,
            "right": null,
            "justify_content": null,
            "_view_module": "@jupyter-widgets/base",
            "overflow": null,
            "_model_module_version": "1.2.0",
            "_view_count": null,
            "flex_flow": null,
            "width": null,
            "min_width": null,
            "border": null,
            "align_items": null,
            "bottom": null,
            "_model_module": "@jupyter-widgets/base",
            "top": null,
            "grid_column": null,
            "overflow_y": null,
            "overflow_x": null,
            "grid_auto_flow": null,
            "grid_area": null,
            "grid_template_columns": null,
            "flex": null,
            "_model_name": "LayoutModel",
            "justify_items": null,
            "grid_row": null,
            "max_height": null,
            "align_content": null,
            "visibility": null,
            "align_self": null,
            "height": null,
            "min_height": null,
            "padding": null,
            "grid_auto_rows": null,
            "grid_gap": null,
            "max_width": null,
            "order": null,
            "_view_module_version": "1.2.0",
            "grid_template_areas": null,
            "object_position": null,
            "object_fit": null,
            "grid_auto_columns": null,
            "margin": null,
            "display": null,
            "left": null
          }
        },
        "b3bc469213954158a0e1b3b9c8c231c4": {
          "model_module": "@jupyter-widgets/controls",
          "model_name": "DescriptionStyleModel",
          "state": {
            "_view_name": "StyleView",
            "_model_name": "DescriptionStyleModel",
            "description_width": "",
            "_view_module": "@jupyter-widgets/base",
            "_model_module_version": "1.5.0",
            "_view_count": null,
            "_view_module_version": "1.2.0",
            "_model_module": "@jupyter-widgets/controls"
          }
        },
        "d9c322653c3347b386e80cfbf2fb48b6": {
          "model_module": "@jupyter-widgets/base",
          "model_name": "LayoutModel",
          "state": {
            "_view_name": "LayoutView",
            "grid_template_rows": null,
            "right": null,
            "justify_content": null,
            "_view_module": "@jupyter-widgets/base",
            "overflow": null,
            "_model_module_version": "1.2.0",
            "_view_count": null,
            "flex_flow": null,
            "width": null,
            "min_width": null,
            "border": null,
            "align_items": null,
            "bottom": null,
            "_model_module": "@jupyter-widgets/base",
            "top": null,
            "grid_column": null,
            "overflow_y": null,
            "overflow_x": null,
            "grid_auto_flow": null,
            "grid_area": null,
            "grid_template_columns": null,
            "flex": null,
            "_model_name": "LayoutModel",
            "justify_items": null,
            "grid_row": null,
            "max_height": null,
            "align_content": null,
            "visibility": null,
            "align_self": null,
            "height": null,
            "min_height": null,
            "padding": null,
            "grid_auto_rows": null,
            "grid_gap": null,
            "max_width": null,
            "order": null,
            "_view_module_version": "1.2.0",
            "grid_template_areas": null,
            "object_position": null,
            "object_fit": null,
            "grid_auto_columns": null,
            "margin": null,
            "display": null,
            "left": null
          }
        },
        "465864950df043baa822183bdfd3bf35": {
          "model_module": "@jupyter-widgets/controls",
          "model_name": "HBoxModel",
          "state": {
            "_view_name": "HBoxView",
            "_dom_classes": [],
            "_model_name": "HBoxModel",
            "_view_module": "@jupyter-widgets/controls",
            "_model_module_version": "1.5.0",
            "_view_count": null,
            "_view_module_version": "1.5.0",
            "box_style": "",
            "layout": "IPY_MODEL_f2f7862f506d4854b1350c4742ff32a4",
            "_model_module": "@jupyter-widgets/controls",
            "children": [
              "IPY_MODEL_451eb3f4bdc94ee5936e809463977cd0",
              "IPY_MODEL_f3c41a4c4e3f4cc48d06e7dfa9e5a251"
            ]
          }
        },
        "f2f7862f506d4854b1350c4742ff32a4": {
          "model_module": "@jupyter-widgets/base",
          "model_name": "LayoutModel",
          "state": {
            "_view_name": "LayoutView",
            "grid_template_rows": null,
            "right": null,
            "justify_content": null,
            "_view_module": "@jupyter-widgets/base",
            "overflow": null,
            "_model_module_version": "1.2.0",
            "_view_count": null,
            "flex_flow": null,
            "width": null,
            "min_width": null,
            "border": null,
            "align_items": null,
            "bottom": null,
            "_model_module": "@jupyter-widgets/base",
            "top": null,
            "grid_column": null,
            "overflow_y": null,
            "overflow_x": null,
            "grid_auto_flow": null,
            "grid_area": null,
            "grid_template_columns": null,
            "flex": null,
            "_model_name": "LayoutModel",
            "justify_items": null,
            "grid_row": null,
            "max_height": null,
            "align_content": null,
            "visibility": null,
            "align_self": null,
            "height": null,
            "min_height": null,
            "padding": null,
            "grid_auto_rows": null,
            "grid_gap": null,
            "max_width": null,
            "order": null,
            "_view_module_version": "1.2.0",
            "grid_template_areas": null,
            "object_position": null,
            "object_fit": null,
            "grid_auto_columns": null,
            "margin": null,
            "display": null,
            "left": null
          }
        },
        "451eb3f4bdc94ee5936e809463977cd0": {
          "model_module": "@jupyter-widgets/controls",
          "model_name": "FloatProgressModel",
          "state": {
            "_view_name": "ProgressView",
            "style": "IPY_MODEL_0900db39619049018e826a199389df2c",
            "_dom_classes": [],
            "description": "",
            "_model_name": "FloatProgressModel",
            "bar_style": "success",
            "max": 1,
            "_view_module": "@jupyter-widgets/controls",
            "_model_module_version": "1.5.0",
            "value": 1,
            "_view_count": null,
            "_view_module_version": "1.5.0",
            "orientation": "horizontal",
            "min": 0,
            "description_tooltip": null,
            "_model_module": "@jupyter-widgets/controls",
            "layout": "IPY_MODEL_ac5aa50d0df242ad90fc39c57cae6a69"
          }
        },
        "f3c41a4c4e3f4cc48d06e7dfa9e5a251": {
          "model_module": "@jupyter-widgets/controls",
          "model_name": "HTMLModel",
          "state": {
            "_view_name": "HTMLView",
            "style": "IPY_MODEL_06800002ae13488583b4bf2a2dfee9ec",
            "_dom_classes": [],
            "description": "",
            "_model_name": "HTMLModel",
            "placeholder": "​",
            "_view_module": "@jupyter-widgets/controls",
            "_model_module_version": "1.5.0",
            "value": " 32768/? [00:00&lt;00:00, 340384.16it/s]",
            "_view_count": null,
            "_view_module_version": "1.5.0",
            "description_tooltip": null,
            "_model_module": "@jupyter-widgets/controls",
            "layout": "IPY_MODEL_cb1629683c064bf4ac5f3a14bc10e3b9"
          }
        },
        "0900db39619049018e826a199389df2c": {
          "model_module": "@jupyter-widgets/controls",
          "model_name": "ProgressStyleModel",
          "state": {
            "_view_name": "StyleView",
            "_model_name": "ProgressStyleModel",
            "description_width": "initial",
            "_view_module": "@jupyter-widgets/base",
            "_model_module_version": "1.5.0",
            "_view_count": null,
            "_view_module_version": "1.2.0",
            "bar_color": null,
            "_model_module": "@jupyter-widgets/controls"
          }
        },
        "ac5aa50d0df242ad90fc39c57cae6a69": {
          "model_module": "@jupyter-widgets/base",
          "model_name": "LayoutModel",
          "state": {
            "_view_name": "LayoutView",
            "grid_template_rows": null,
            "right": null,
            "justify_content": null,
            "_view_module": "@jupyter-widgets/base",
            "overflow": null,
            "_model_module_version": "1.2.0",
            "_view_count": null,
            "flex_flow": null,
            "width": null,
            "min_width": null,
            "border": null,
            "align_items": null,
            "bottom": null,
            "_model_module": "@jupyter-widgets/base",
            "top": null,
            "grid_column": null,
            "overflow_y": null,
            "overflow_x": null,
            "grid_auto_flow": null,
            "grid_area": null,
            "grid_template_columns": null,
            "flex": null,
            "_model_name": "LayoutModel",
            "justify_items": null,
            "grid_row": null,
            "max_height": null,
            "align_content": null,
            "visibility": null,
            "align_self": null,
            "height": null,
            "min_height": null,
            "padding": null,
            "grid_auto_rows": null,
            "grid_gap": null,
            "max_width": null,
            "order": null,
            "_view_module_version": "1.2.0",
            "grid_template_areas": null,
            "object_position": null,
            "object_fit": null,
            "grid_auto_columns": null,
            "margin": null,
            "display": null,
            "left": null
          }
        },
        "06800002ae13488583b4bf2a2dfee9ec": {
          "model_module": "@jupyter-widgets/controls",
          "model_name": "DescriptionStyleModel",
          "state": {
            "_view_name": "StyleView",
            "_model_name": "DescriptionStyleModel",
            "description_width": "",
            "_view_module": "@jupyter-widgets/base",
            "_model_module_version": "1.5.0",
            "_view_count": null,
            "_view_module_version": "1.2.0",
            "_model_module": "@jupyter-widgets/controls"
          }
        },
        "cb1629683c064bf4ac5f3a14bc10e3b9": {
          "model_module": "@jupyter-widgets/base",
          "model_name": "LayoutModel",
          "state": {
            "_view_name": "LayoutView",
            "grid_template_rows": null,
            "right": null,
            "justify_content": null,
            "_view_module": "@jupyter-widgets/base",
            "overflow": null,
            "_model_module_version": "1.2.0",
            "_view_count": null,
            "flex_flow": null,
            "width": null,
            "min_width": null,
            "border": null,
            "align_items": null,
            "bottom": null,
            "_model_module": "@jupyter-widgets/base",
            "top": null,
            "grid_column": null,
            "overflow_y": null,
            "overflow_x": null,
            "grid_auto_flow": null,
            "grid_area": null,
            "grid_template_columns": null,
            "flex": null,
            "_model_name": "LayoutModel",
            "justify_items": null,
            "grid_row": null,
            "max_height": null,
            "align_content": null,
            "visibility": null,
            "align_self": null,
            "height": null,
            "min_height": null,
            "padding": null,
            "grid_auto_rows": null,
            "grid_gap": null,
            "max_width": null,
            "order": null,
            "_view_module_version": "1.2.0",
            "grid_template_areas": null,
            "object_position": null,
            "object_fit": null,
            "grid_auto_columns": null,
            "margin": null,
            "display": null,
            "left": null
          }
        },
        "c9a43e5a4c1443a69969b90bbaf346ec": {
          "model_module": "@jupyter-widgets/controls",
          "model_name": "HBoxModel",
          "state": {
            "_view_name": "HBoxView",
            "_dom_classes": [],
            "_model_name": "HBoxModel",
            "_view_module": "@jupyter-widgets/controls",
            "_model_module_version": "1.5.0",
            "_view_count": null,
            "_view_module_version": "1.5.0",
            "box_style": "",
            "layout": "IPY_MODEL_3f6cdaa2a7c34a90801e7b02e33dc027",
            "_model_module": "@jupyter-widgets/controls",
            "children": [
              "IPY_MODEL_b2a394f205404a468f84548f329e2f0b",
              "IPY_MODEL_66f53d15d7194f948f583ddac5b1be7e"
            ]
          }
        },
        "3f6cdaa2a7c34a90801e7b02e33dc027": {
          "model_module": "@jupyter-widgets/base",
          "model_name": "LayoutModel",
          "state": {
            "_view_name": "LayoutView",
            "grid_template_rows": null,
            "right": null,
            "justify_content": null,
            "_view_module": "@jupyter-widgets/base",
            "overflow": null,
            "_model_module_version": "1.2.0",
            "_view_count": null,
            "flex_flow": null,
            "width": null,
            "min_width": null,
            "border": null,
            "align_items": null,
            "bottom": null,
            "_model_module": "@jupyter-widgets/base",
            "top": null,
            "grid_column": null,
            "overflow_y": null,
            "overflow_x": null,
            "grid_auto_flow": null,
            "grid_area": null,
            "grid_template_columns": null,
            "flex": null,
            "_model_name": "LayoutModel",
            "justify_items": null,
            "grid_row": null,
            "max_height": null,
            "align_content": null,
            "visibility": null,
            "align_self": null,
            "height": null,
            "min_height": null,
            "padding": null,
            "grid_auto_rows": null,
            "grid_gap": null,
            "max_width": null,
            "order": null,
            "_view_module_version": "1.2.0",
            "grid_template_areas": null,
            "object_position": null,
            "object_fit": null,
            "grid_auto_columns": null,
            "margin": null,
            "display": null,
            "left": null
          }
        },
        "b2a394f205404a468f84548f329e2f0b": {
          "model_module": "@jupyter-widgets/controls",
          "model_name": "FloatProgressModel",
          "state": {
            "_view_name": "ProgressView",
            "style": "IPY_MODEL_8673cceff9cb4609b7044925a0e32678",
            "_dom_classes": [],
            "description": "",
            "_model_name": "FloatProgressModel",
            "bar_style": "success",
            "max": 1,
            "_view_module": "@jupyter-widgets/controls",
            "_model_module_version": "1.5.0",
            "value": 1,
            "_view_count": null,
            "_view_module_version": "1.5.0",
            "orientation": "horizontal",
            "min": 0,
            "description_tooltip": null,
            "_model_module": "@jupyter-widgets/controls",
            "layout": "IPY_MODEL_44043cac6e1e425c9f701aa4dad470f2"
          }
        },
        "66f53d15d7194f948f583ddac5b1be7e": {
          "model_module": "@jupyter-widgets/controls",
          "model_name": "HTMLModel",
          "state": {
            "_view_name": "HTMLView",
            "style": "IPY_MODEL_332294b958944100b452c9c02e6baa60",
            "_dom_classes": [],
            "description": "",
            "_model_name": "HTMLModel",
            "placeholder": "​",
            "_view_module": "@jupyter-widgets/controls",
            "_model_module_version": "1.5.0",
            "value": " 4423680/? [00:00&lt;00:00, 5635197.20it/s]",
            "_view_count": null,
            "_view_module_version": "1.5.0",
            "description_tooltip": null,
            "_model_module": "@jupyter-widgets/controls",
            "layout": "IPY_MODEL_e2222b586a88421a834a23423e51ef2d"
          }
        },
        "8673cceff9cb4609b7044925a0e32678": {
          "model_module": "@jupyter-widgets/controls",
          "model_name": "ProgressStyleModel",
          "state": {
            "_view_name": "StyleView",
            "_model_name": "ProgressStyleModel",
            "description_width": "initial",
            "_view_module": "@jupyter-widgets/base",
            "_model_module_version": "1.5.0",
            "_view_count": null,
            "_view_module_version": "1.2.0",
            "bar_color": null,
            "_model_module": "@jupyter-widgets/controls"
          }
        },
        "44043cac6e1e425c9f701aa4dad470f2": {
          "model_module": "@jupyter-widgets/base",
          "model_name": "LayoutModel",
          "state": {
            "_view_name": "LayoutView",
            "grid_template_rows": null,
            "right": null,
            "justify_content": null,
            "_view_module": "@jupyter-widgets/base",
            "overflow": null,
            "_model_module_version": "1.2.0",
            "_view_count": null,
            "flex_flow": null,
            "width": null,
            "min_width": null,
            "border": null,
            "align_items": null,
            "bottom": null,
            "_model_module": "@jupyter-widgets/base",
            "top": null,
            "grid_column": null,
            "overflow_y": null,
            "overflow_x": null,
            "grid_auto_flow": null,
            "grid_area": null,
            "grid_template_columns": null,
            "flex": null,
            "_model_name": "LayoutModel",
            "justify_items": null,
            "grid_row": null,
            "max_height": null,
            "align_content": null,
            "visibility": null,
            "align_self": null,
            "height": null,
            "min_height": null,
            "padding": null,
            "grid_auto_rows": null,
            "grid_gap": null,
            "max_width": null,
            "order": null,
            "_view_module_version": "1.2.0",
            "grid_template_areas": null,
            "object_position": null,
            "object_fit": null,
            "grid_auto_columns": null,
            "margin": null,
            "display": null,
            "left": null
          }
        },
        "332294b958944100b452c9c02e6baa60": {
          "model_module": "@jupyter-widgets/controls",
          "model_name": "DescriptionStyleModel",
          "state": {
            "_view_name": "StyleView",
            "_model_name": "DescriptionStyleModel",
            "description_width": "",
            "_view_module": "@jupyter-widgets/base",
            "_model_module_version": "1.5.0",
            "_view_count": null,
            "_view_module_version": "1.2.0",
            "_model_module": "@jupyter-widgets/controls"
          }
        },
        "e2222b586a88421a834a23423e51ef2d": {
          "model_module": "@jupyter-widgets/base",
          "model_name": "LayoutModel",
          "state": {
            "_view_name": "LayoutView",
            "grid_template_rows": null,
            "right": null,
            "justify_content": null,
            "_view_module": "@jupyter-widgets/base",
            "overflow": null,
            "_model_module_version": "1.2.0",
            "_view_count": null,
            "flex_flow": null,
            "width": null,
            "min_width": null,
            "border": null,
            "align_items": null,
            "bottom": null,
            "_model_module": "@jupyter-widgets/base",
            "top": null,
            "grid_column": null,
            "overflow_y": null,
            "overflow_x": null,
            "grid_auto_flow": null,
            "grid_area": null,
            "grid_template_columns": null,
            "flex": null,
            "_model_name": "LayoutModel",
            "justify_items": null,
            "grid_row": null,
            "max_height": null,
            "align_content": null,
            "visibility": null,
            "align_self": null,
            "height": null,
            "min_height": null,
            "padding": null,
            "grid_auto_rows": null,
            "grid_gap": null,
            "max_width": null,
            "order": null,
            "_view_module_version": "1.2.0",
            "grid_template_areas": null,
            "object_position": null,
            "object_fit": null,
            "grid_auto_columns": null,
            "margin": null,
            "display": null,
            "left": null
          }
        },
        "48e2ff641845400d9bc1dff5603b0fed": {
          "model_module": "@jupyter-widgets/controls",
          "model_name": "HBoxModel",
          "state": {
            "_view_name": "HBoxView",
            "_dom_classes": [],
            "_model_name": "HBoxModel",
            "_view_module": "@jupyter-widgets/controls",
            "_model_module_version": "1.5.0",
            "_view_count": null,
            "_view_module_version": "1.5.0",
            "box_style": "",
            "layout": "IPY_MODEL_1db394bfddd84363964c7e09b07fe56c",
            "_model_module": "@jupyter-widgets/controls",
            "children": [
              "IPY_MODEL_3fee0c882fec477cb24233c95fb9483e",
              "IPY_MODEL_e9c39c223f6a47e5956c7671a4ec87ac"
            ]
          }
        },
        "1db394bfddd84363964c7e09b07fe56c": {
          "model_module": "@jupyter-widgets/base",
          "model_name": "LayoutModel",
          "state": {
            "_view_name": "LayoutView",
            "grid_template_rows": null,
            "right": null,
            "justify_content": null,
            "_view_module": "@jupyter-widgets/base",
            "overflow": null,
            "_model_module_version": "1.2.0",
            "_view_count": null,
            "flex_flow": null,
            "width": null,
            "min_width": null,
            "border": null,
            "align_items": null,
            "bottom": null,
            "_model_module": "@jupyter-widgets/base",
            "top": null,
            "grid_column": null,
            "overflow_y": null,
            "overflow_x": null,
            "grid_auto_flow": null,
            "grid_area": null,
            "grid_template_columns": null,
            "flex": null,
            "_model_name": "LayoutModel",
            "justify_items": null,
            "grid_row": null,
            "max_height": null,
            "align_content": null,
            "visibility": null,
            "align_self": null,
            "height": null,
            "min_height": null,
            "padding": null,
            "grid_auto_rows": null,
            "grid_gap": null,
            "max_width": null,
            "order": null,
            "_view_module_version": "1.2.0",
            "grid_template_areas": null,
            "object_position": null,
            "object_fit": null,
            "grid_auto_columns": null,
            "margin": null,
            "display": null,
            "left": null
          }
        },
        "3fee0c882fec477cb24233c95fb9483e": {
          "model_module": "@jupyter-widgets/controls",
          "model_name": "FloatProgressModel",
          "state": {
            "_view_name": "ProgressView",
            "style": "IPY_MODEL_7271046734ac444ab47b12cab27bbf57",
            "_dom_classes": [],
            "description": "",
            "_model_name": "FloatProgressModel",
            "bar_style": "success",
            "max": 1,
            "_view_module": "@jupyter-widgets/controls",
            "_model_module_version": "1.5.0",
            "value": 1,
            "_view_count": null,
            "_view_module_version": "1.5.0",
            "orientation": "horizontal",
            "min": 0,
            "description_tooltip": null,
            "_model_module": "@jupyter-widgets/controls",
            "layout": "IPY_MODEL_d5a0266c0649425c9f22e0efd854dd35"
          }
        },
        "e9c39c223f6a47e5956c7671a4ec87ac": {
          "model_module": "@jupyter-widgets/controls",
          "model_name": "HTMLModel",
          "state": {
            "_view_name": "HTMLView",
            "style": "IPY_MODEL_3d79cdc52673403bada7aa9a6e56f9b2",
            "_dom_classes": [],
            "description": "",
            "_model_name": "HTMLModel",
            "placeholder": "​",
            "_view_module": "@jupyter-widgets/controls",
            "_model_module_version": "1.5.0",
            "value": " 8192/? [00:00&lt;00:00, 21005.39it/s]",
            "_view_count": null,
            "_view_module_version": "1.5.0",
            "description_tooltip": null,
            "_model_module": "@jupyter-widgets/controls",
            "layout": "IPY_MODEL_bf725571ed22465fbc3ac3c7f26f737c"
          }
        },
        "7271046734ac444ab47b12cab27bbf57": {
          "model_module": "@jupyter-widgets/controls",
          "model_name": "ProgressStyleModel",
          "state": {
            "_view_name": "StyleView",
            "_model_name": "ProgressStyleModel",
            "description_width": "initial",
            "_view_module": "@jupyter-widgets/base",
            "_model_module_version": "1.5.0",
            "_view_count": null,
            "_view_module_version": "1.2.0",
            "bar_color": null,
            "_model_module": "@jupyter-widgets/controls"
          }
        },
        "d5a0266c0649425c9f22e0efd854dd35": {
          "model_module": "@jupyter-widgets/base",
          "model_name": "LayoutModel",
          "state": {
            "_view_name": "LayoutView",
            "grid_template_rows": null,
            "right": null,
            "justify_content": null,
            "_view_module": "@jupyter-widgets/base",
            "overflow": null,
            "_model_module_version": "1.2.0",
            "_view_count": null,
            "flex_flow": null,
            "width": null,
            "min_width": null,
            "border": null,
            "align_items": null,
            "bottom": null,
            "_model_module": "@jupyter-widgets/base",
            "top": null,
            "grid_column": null,
            "overflow_y": null,
            "overflow_x": null,
            "grid_auto_flow": null,
            "grid_area": null,
            "grid_template_columns": null,
            "flex": null,
            "_model_name": "LayoutModel",
            "justify_items": null,
            "grid_row": null,
            "max_height": null,
            "align_content": null,
            "visibility": null,
            "align_self": null,
            "height": null,
            "min_height": null,
            "padding": null,
            "grid_auto_rows": null,
            "grid_gap": null,
            "max_width": null,
            "order": null,
            "_view_module_version": "1.2.0",
            "grid_template_areas": null,
            "object_position": null,
            "object_fit": null,
            "grid_auto_columns": null,
            "margin": null,
            "display": null,
            "left": null
          }
        },
        "3d79cdc52673403bada7aa9a6e56f9b2": {
          "model_module": "@jupyter-widgets/controls",
          "model_name": "DescriptionStyleModel",
          "state": {
            "_view_name": "StyleView",
            "_model_name": "DescriptionStyleModel",
            "description_width": "",
            "_view_module": "@jupyter-widgets/base",
            "_model_module_version": "1.5.0",
            "_view_count": null,
            "_view_module_version": "1.2.0",
            "_model_module": "@jupyter-widgets/controls"
          }
        },
        "bf725571ed22465fbc3ac3c7f26f737c": {
          "model_module": "@jupyter-widgets/base",
          "model_name": "LayoutModel",
          "state": {
            "_view_name": "LayoutView",
            "grid_template_rows": null,
            "right": null,
            "justify_content": null,
            "_view_module": "@jupyter-widgets/base",
            "overflow": null,
            "_model_module_version": "1.2.0",
            "_view_count": null,
            "flex_flow": null,
            "width": null,
            "min_width": null,
            "border": null,
            "align_items": null,
            "bottom": null,
            "_model_module": "@jupyter-widgets/base",
            "top": null,
            "grid_column": null,
            "overflow_y": null,
            "overflow_x": null,
            "grid_auto_flow": null,
            "grid_area": null,
            "grid_template_columns": null,
            "flex": null,
            "_model_name": "LayoutModel",
            "justify_items": null,
            "grid_row": null,
            "max_height": null,
            "align_content": null,
            "visibility": null,
            "align_self": null,
            "height": null,
            "min_height": null,
            "padding": null,
            "grid_auto_rows": null,
            "grid_gap": null,
            "max_width": null,
            "order": null,
            "_view_module_version": "1.2.0",
            "grid_template_areas": null,
            "object_position": null,
            "object_fit": null,
            "grid_auto_columns": null,
            "margin": null,
            "display": null,
            "left": null
          }
        }
      }
    }
  },
  "cells": [
    {
      "cell_type": "code",
      "metadata": {
        "id": "rDM_KegDG0aw",
        "colab_type": "code",
        "colab": {}
      },
      "source": [
        "import os\n",
        "import time\n",
        "import glob\n",
        "import copy\n",
        "import pickle\n",
        "\n",
        "import numpy as np\n",
        "import pandas as pd\n",
        "import matplotlib.pyplot as plt\n",
        "\n",
        "import torch\n",
        "import torch.nn as nn\n",
        "import torch.optim as optim\n",
        "import torch.nn.functional as F\n",
        "from torch.utils.data import Dataset, DataLoader, random_split\n",
        "\n",
        "import torchvision\n",
        "import torchvision.transforms as tt"
      ],
      "execution_count": null,
      "outputs": []
    },
    {
      "cell_type": "code",
      "metadata": {
        "id": "gd-dnxD2UTBL",
        "colab_type": "code",
        "colab": {}
      },
      "source": [
        "if not os.path.exists('./models'):\n",
        "  os.mkdir('./models')\n",
        "\n",
        "if not os.path.exists('./configs'):\n",
        "  os.mkdir('./configs')"
      ],
      "execution_count": null,
      "outputs": []
    },
    {
      "cell_type": "code",
      "metadata": {
        "id": "9jX5TqNGQv71",
        "colab_type": "code",
        "colab": {}
      },
      "source": [
        "# Define the transforms\n",
        "train_transforms = tt.Compose([\n",
        "  tt.RandomHorizontalFlip(p=0.5),\n",
        "  tt.ToTensor(),\n",
        "  tt.Normalize(mean=[0.286], std=[0.126])\n",
        "])\n",
        "\n",
        "test_transforms = tt.Compose([\n",
        "  tt.ToTensor(),\n",
        "  tt.Normalize(mean=[0.286], std=[0.126])\n",
        "])"
      ],
      "execution_count": null,
      "outputs": []
    },
    {
      "cell_type": "markdown",
      "metadata": {
        "id": "facbwzbpNK6t",
        "colab_type": "text"
      },
      "source": [
        "# Load Data"
      ]
    },
    {
      "cell_type": "code",
      "metadata": {
        "id": "BMZfz8zoHVND",
        "colab_type": "code",
        "colab": {
          "base_uri": "https://localhost:8080/",
          "height": 390,
          "referenced_widgets": [
            "65007eb6c73f4e6588d756a15f2fc037",
            "e810615bc63f4e7293552c928f8a54b2",
            "d80a6dbcd19f4237b48bf49ef05200ee",
            "cdd6a23fa1fc45e4ae79b761657843fa",
            "5a6ea2bc019f494f9e90a2d0c36f5cfb",
            "4fe3810187434f0a9e7d72a0410704f2",
            "b3bc469213954158a0e1b3b9c8c231c4",
            "d9c322653c3347b386e80cfbf2fb48b6",
            "465864950df043baa822183bdfd3bf35",
            "f2f7862f506d4854b1350c4742ff32a4",
            "451eb3f4bdc94ee5936e809463977cd0",
            "f3c41a4c4e3f4cc48d06e7dfa9e5a251",
            "0900db39619049018e826a199389df2c",
            "ac5aa50d0df242ad90fc39c57cae6a69",
            "06800002ae13488583b4bf2a2dfee9ec",
            "cb1629683c064bf4ac5f3a14bc10e3b9",
            "c9a43e5a4c1443a69969b90bbaf346ec",
            "3f6cdaa2a7c34a90801e7b02e33dc027",
            "b2a394f205404a468f84548f329e2f0b",
            "66f53d15d7194f948f583ddac5b1be7e",
            "8673cceff9cb4609b7044925a0e32678",
            "44043cac6e1e425c9f701aa4dad470f2",
            "332294b958944100b452c9c02e6baa60",
            "e2222b586a88421a834a23423e51ef2d",
            "48e2ff641845400d9bc1dff5603b0fed",
            "1db394bfddd84363964c7e09b07fe56c",
            "3fee0c882fec477cb24233c95fb9483e",
            "e9c39c223f6a47e5956c7671a4ec87ac",
            "7271046734ac444ab47b12cab27bbf57",
            "d5a0266c0649425c9f22e0efd854dd35",
            "3d79cdc52673403bada7aa9a6e56f9b2",
            "bf725571ed22465fbc3ac3c7f26f737c"
          ]
        },
        "outputId": "f5718411-18ca-4eeb-e48d-65e987a41b73"
      },
      "source": [
        "# Download the data if not available and transform to tensor\n",
        "data = torchvision.datasets.FashionMNIST(root='./data/fashion',\n",
        "                                         train=True,\n",
        "                                         download=True,\n",
        "                                         transform=train_transforms)\n",
        "\n",
        "test = torchvision.datasets.FashionMNIST(root='./data/fashion',\n",
        "                                         train=False,\n",
        "                                         download=True,\n",
        "                                         transform=test_transforms)"
      ],
      "execution_count": null,
      "outputs": [
        {
          "output_type": "stream",
          "text": [
            "Downloading http://fashion-mnist.s3-website.eu-central-1.amazonaws.com/train-images-idx3-ubyte.gz to ./data/fashion/FashionMNIST/raw/train-images-idx3-ubyte.gz\n"
          ],
          "name": "stdout"
        },
        {
          "output_type": "display_data",
          "data": {
            "application/vnd.jupyter.widget-view+json": {
              "model_id": "65007eb6c73f4e6588d756a15f2fc037",
              "version_minor": 0,
              "version_major": 2
            },
            "text/plain": [
              "HBox(children=(FloatProgress(value=1.0, bar_style='info', max=1.0), HTML(value='')))"
            ]
          },
          "metadata": {
            "tags": []
          }
        },
        {
          "output_type": "stream",
          "text": [
            "Extracting ./data/fashion/FashionMNIST/raw/train-images-idx3-ubyte.gz to ./data/fashion/FashionMNIST/raw\n",
            "Downloading http://fashion-mnist.s3-website.eu-central-1.amazonaws.com/train-labels-idx1-ubyte.gz to ./data/fashion/FashionMNIST/raw/train-labels-idx1-ubyte.gz\n"
          ],
          "name": "stdout"
        },
        {
          "output_type": "display_data",
          "data": {
            "application/vnd.jupyter.widget-view+json": {
              "model_id": "465864950df043baa822183bdfd3bf35",
              "version_minor": 0,
              "version_major": 2
            },
            "text/plain": [
              "HBox(children=(FloatProgress(value=1.0, bar_style='info', max=1.0), HTML(value='')))"
            ]
          },
          "metadata": {
            "tags": []
          }
        },
        {
          "output_type": "stream",
          "text": [
            "Extracting ./data/fashion/FashionMNIST/raw/train-labels-idx1-ubyte.gz to ./data/fashion/FashionMNIST/raw\n",
            "Downloading http://fashion-mnist.s3-website.eu-central-1.amazonaws.com/t10k-images-idx3-ubyte.gz to ./data/fashion/FashionMNIST/raw/t10k-images-idx3-ubyte.gz\n",
            "\n"
          ],
          "name": "stdout"
        },
        {
          "output_type": "display_data",
          "data": {
            "application/vnd.jupyter.widget-view+json": {
              "model_id": "c9a43e5a4c1443a69969b90bbaf346ec",
              "version_minor": 0,
              "version_major": 2
            },
            "text/plain": [
              "HBox(children=(FloatProgress(value=1.0, bar_style='info', max=1.0), HTML(value='')))"
            ]
          },
          "metadata": {
            "tags": []
          }
        },
        {
          "output_type": "stream",
          "text": [
            "Extracting ./data/fashion/FashionMNIST/raw/t10k-images-idx3-ubyte.gz to ./data/fashion/FashionMNIST/raw\n",
            "Downloading http://fashion-mnist.s3-website.eu-central-1.amazonaws.com/t10k-labels-idx1-ubyte.gz to ./data/fashion/FashionMNIST/raw/t10k-labels-idx1-ubyte.gz\n"
          ],
          "name": "stdout"
        },
        {
          "output_type": "display_data",
          "data": {
            "application/vnd.jupyter.widget-view+json": {
              "model_id": "48e2ff641845400d9bc1dff5603b0fed",
              "version_minor": 0,
              "version_major": 2
            },
            "text/plain": [
              "HBox(children=(FloatProgress(value=1.0, bar_style='info', max=1.0), HTML(value='')))"
            ]
          },
          "metadata": {
            "tags": []
          }
        },
        {
          "output_type": "stream",
          "text": [
            "Extracting ./data/fashion/FashionMNIST/raw/t10k-labels-idx1-ubyte.gz to ./data/fashion/FashionMNIST/raw\n",
            "Processing...\n",
            "Done!\n"
          ],
          "name": "stdout"
        },
        {
          "output_type": "stream",
          "text": [
            "/usr/local/lib/python3.6/dist-packages/torchvision/datasets/mnist.py:469: UserWarning: The given NumPy array is not writeable, and PyTorch does not support non-writeable tensors. This means you can write to the underlying (supposedly non-writeable) NumPy array using the tensor. You may want to copy the array to protect its data or make it writeable before converting it to a tensor. This type of warning will be suppressed for the rest of this program. (Triggered internally at  /pytorch/torch/csrc/utils/tensor_numpy.cpp:141.)\n",
            "  return torch.from_numpy(parsed.astype(m[2], copy=False)).view(*s)\n"
          ],
          "name": "stderr"
        }
      ]
    },
    {
      "cell_type": "markdown",
      "metadata": {
        "id": "pXG4SDhTJx6U",
        "colab_type": "text"
      },
      "source": [
        "It loads a tuple of image and its label. The image is one channel (grayscale) with size 28x28"
      ]
    },
    {
      "cell_type": "code",
      "metadata": {
        "id": "dcmQU0T1Izmw",
        "colab_type": "code",
        "colab": {
          "base_uri": "https://localhost:8080/",
          "height": 334
        },
        "outputId": "442657a5-97e4-46c5-988d-6df014eb4983"
      },
      "source": [
        "# Sample image\n",
        "plt.imshow(data[0][0].squeeze(), cmap='gray')"
      ],
      "execution_count": null,
      "outputs": [
        {
          "output_type": "stream",
          "text": [
            "\n"
          ],
          "name": "stdout"
        },
        {
          "output_type": "execute_result",
          "data": {
            "text/plain": [
              "<matplotlib.image.AxesImage at 0x7f874d295358>"
            ]
          },
          "metadata": {
            "tags": []
          },
          "execution_count": 5
        },
        {
          "output_type": "display_data",
          "data": {
            "image/png": "[encoded data removed]",
            "text/plain": [
              "<Figure size 432x288 with 1 Axes>"
            ]
          },
          "metadata": {
            "tags": [],
            "needs_background": "light"
          }
        },
        {
          "output_type": "stream",
          "text": [
            "\n",
            "\n"
          ],
          "name": "stdout"
        }
      ]
    },
    {
      "cell_type": "code",
      "metadata": {
        "id": "0aEAiwJcMsET",
        "colab_type": "code",
        "colab": {
          "base_uri": "https://localhost:8080/",
          "height": 34
        },
        "outputId": "68462b2d-377b-4577-8cf4-9c3008ecbb4e"
      },
      "source": [
        "# Print first 30 labels. Appears that they are already shuffled\n",
        "print([x[1] for x in data][:30])"
      ],
      "execution_count": null,
      "outputs": [
        {
          "output_type": "stream",
          "text": [
            "[9, 0, 0, 3, 0, 2, 7, 2, 5, 5, 0, 9, 5, 5, 7, 9, 1, 0, 6, 4, 3, 1, 4, 8, 4, 3, 0, 2, 4, 4]\n"
          ],
          "name": "stdout"
        }
      ]
    },
    {
      "cell_type": "markdown",
      "metadata": {
        "id": "OWsJB5HlbYtX",
        "colab_type": "text"
      },
      "source": [
        "## Train/Val Split"
      ]
    },
    {
      "cell_type": "code",
      "metadata": {
        "id": "xI6DJO9UeVNI",
        "colab_type": "code",
        "colab": {
          "base_uri": "https://localhost:8080/",
          "height": 52
        },
        "outputId": "bbf4db6a-32cc-462f-bd79-f01c2b8bde37"
      },
      "source": [
        "val_size = 0.2\n",
        "n = len(data)\n",
        "n_train = int(n * (1-val_size))\n",
        "n_val = n - n_train\n",
        "train, val = random_split(data, [n_train, n_val])\n",
        "\n",
        "print(f\"Train: {len(train)} images\")\n",
        "print(f\"Val: {len(val)} images\")"
      ],
      "execution_count": null,
      "outputs": [
        {
          "output_type": "stream",
          "text": [
            "Train: 48000 images\n",
            "Val: 12000 images\n"
          ],
          "name": "stdout"
        }
      ]
    },
    {
      "cell_type": "markdown",
      "metadata": {
        "id": "de58BsEDNR6Z",
        "colab_type": "text"
      },
      "source": [
        "# Define Model"
      ]
    },
    {
      "cell_type": "code",
      "metadata": {
        "id": "YyPYT1nANZ2O",
        "colab_type": "code",
        "colab": {}
      },
      "source": [
        "class Network(nn.Module):\n",
        "  '''\n",
        "  Neural network with similar architecture to LeNet with some personal touch\n",
        "  '''\n",
        "  def __init__(self, n_classes=10, conv_c=[12, 24], fc_c=[256, 128, 64]):\n",
        "    '''\n",
        "    :param n_classes: Number of classes, Fashion-MNIST has 10\n",
        "    :param conv_c: Convolution channels, list\n",
        "    :param fc_c: Fully-connected channels, list\n",
        "    Can be expanded to allow dynamic number of convolutional/FC layers\n",
        "    '''\n",
        "    super().__init__()\n",
        "\n",
        "    self._conv_c = conv_c\n",
        "    self._fc_c = fc_c\n",
        "\n",
        "    self.conv1 = nn.Conv2d(1, conv_c[0], kernel_size=5)  # 24x24\n",
        "    self.pool1 = nn.MaxPool2d(kernel_size=2, stride=2)  # 12x12\n",
        "    self.conv2 = nn.Conv2d(conv_c[0], conv_c[1], kernel_size=5) # 8x8\n",
        "\n",
        "    self.drop1 = nn.Dropout2d(p=0.3)\n",
        "    self.drop2 = nn.Dropout(p=0.3)\n",
        "\n",
        "    self.fc1 = nn.Linear(conv_c[1]*8*8, fc_c[0])\n",
        "    self.fc2 = nn.Linear(fc_c[0], fc_c[1])\n",
        "    self.fc3 = nn.Linear(fc_c[1], fc_c[2])\n",
        "    self.out = nn.Linear(fc_c[2], n_classes)\n",
        "\n",
        "  def forward(self, x):\n",
        "    x = self.conv1(x)\n",
        "    x = F.relu(x)\n",
        "    x = self.pool1(x)\n",
        "    x = self.drop1(x)\n",
        "\n",
        "    x = self.conv2(x)\n",
        "    x = F.relu(x)\n",
        "\n",
        "    x = x.reshape(-1, self._conv_c[1]*8*8)\n",
        "    x = self.fc1(x)\n",
        "    x = F.relu(x)\n",
        "    x = self.drop2(x)\n",
        "    x = self.fc2(x)\n",
        "    x = F.relu(x)\n",
        "    x = self.drop2(x)\n",
        "    x = self.fc3(x)\n",
        "    x = F.relu(x)\n",
        "    x = self.out(x)\n",
        "\n",
        "    return x"
      ],
      "execution_count": null,
      "outputs": []
    },
    {
      "cell_type": "code",
      "metadata": {
        "id": "pkU9QGsIIyzk",
        "colab_type": "code",
        "colab": {}
      },
      "source": [
        "class NetworkTrainer(object):\n",
        "  '''\n",
        "  Training manager for the network, allows learning rate scheduling, training,\n",
        "  collection, visualisation, and saving of results.\n",
        "  '''\n",
        "  def __init__(self, net, criterion, device, optimizer='sgd'):\n",
        "    _run_time = int(time.time())\n",
        "    self._path = f\"./models/{_run_time}.pt\"\n",
        "    self._config_path = f\"./configs/{_run_time}.pkl\"\n",
        "\n",
        "    self.net = net\n",
        "    self.criterion = criterion\n",
        "    self.loss = []\n",
        "    self.acc = []\n",
        "    self.val_loss = []\n",
        "    self.val_acc = []\n",
        "    self.results = None\n",
        "\n",
        "    self.current_epoch = 0\n",
        "    if optimizer.lower() == 'sgd':\n",
        "      self.optimizer = optim.SGD(self.net.parameters(),\n",
        "                                 self.lr_scheduler(optimizer),\n",
        "                                 momentum=0.8)\n",
        "    elif optimizer.lower() == 'adam':\n",
        "      self.optimizer = optim.Adam(self.net.parameters(),\n",
        "                                  self.lr_scheduler(optimizer))\n",
        "    else:\n",
        "      print('Invalid optimizer name. Using Adam.')\n",
        "      self.optimizer = optim.Adam(self.net.parameters(),\n",
        "                                  self.lr_scheduler(optimizer))\n",
        "\n",
        "  def _get_results(self):\n",
        "    '''\n",
        "    Utility function to save results after training\n",
        "    :return: Results of training in pandas DataFrame\n",
        "    '''\n",
        "    results = pd.DataFrame(\n",
        "      {x: getattr(self, x) for x in ['loss', 'acc', 'val_loss', 'val_acc']}\n",
        "    )\n",
        "    results.columns = ['TrainLoss', 'TrainAcc', 'ValLoss', 'ValAcc']\n",
        "    results.index = results.index + 1\n",
        "    results.rename_axis('Epoch', inplace=True)\n",
        "\n",
        "    return results\n",
        "\n",
        "  def lr_scheduler(self, optimizer):\n",
        "    '''\n",
        "    Schedule the learning rate throughout increasing epochs\n",
        "    :param optimizer: Name of optimizer as initialized in the main object\n",
        "    :return: Learning rate according the epoch\n",
        "    '''\n",
        "    learning_rates = [1e-4, 6e-5, 3e-5, 1e-5]\n",
        "    if optimizer.lower() == 'sgd':\n",
        "      learning_rates = [x*10 for x in learning_rates]\n",
        "    if self.current_epoch < 10:\n",
        "        return learning_rates[0]\n",
        "    elif self.current_epoch < 15:\n",
        "        return learning_rates[1]\n",
        "    elif self.current_epoch < 20:\n",
        "        return learning_rates[2]\n",
        "    else:\n",
        "        return learning_rates[3]\n",
        "\n",
        "  def train(self, loaders, epochs, early_stop=True, patience=3, silent=False):\n",
        "    '''\n",
        "    Main trainer of the network\n",
        "    :params loaders: Train/val loader dictionary\n",
        "    :params epochs: Number of epochs to train\n",
        "    :params early_stop: Early stopping toggle\n",
        "    :params patience: Early stopping patience\n",
        "    :params silent: Whether to print training progress to stdout\n",
        "    '''\n",
        "    for epoch in range(epochs):\n",
        "      # Start training one epoch\n",
        "      epoch_start = time.time()\n",
        "      self.current_epoch += 1\n",
        "\n",
        "      if not silent:\n",
        "        print(f\"Epoch {epoch + 1}/{epochs}\")\n",
        "        print('-' * 10)\n",
        "\n",
        "      # Training Phase\n",
        "      self.net.train()\n",
        "\n",
        "      # Reset mini-batch losses\n",
        "      losses = []\n",
        "      n_correct = 0\n",
        "      n_images = 0\n",
        "\n",
        "      for images, labels in loaders['train']:\n",
        "        images = images.to(device)\n",
        "        labels = labels.to(device)\n",
        "        pred = self.net(images)\n",
        "        loss = self.criterion(pred, labels)\n",
        "\n",
        "        self.optimizer.zero_grad()\n",
        "        loss.backward()\n",
        "        self.optimizer.step()\n",
        "\n",
        "        # Record loss and accuracy\n",
        "        losses.append(loss.item())\n",
        "        # Add number of correct prediction\n",
        "        n_correct += pred.argmax(dim=1).eq(labels).sum().item()\n",
        "        n_images += len(labels)\n",
        "      \n",
        "      epoch_loss = sum(losses)/len(losses)\n",
        "      epoch_acc = n_correct/n_images\n",
        "      self.loss.append(epoch_loss)\n",
        "      self.acc.append(epoch_acc)\n",
        "\n",
        "      # Evaluation Phase\n",
        "      self.net.eval()\n",
        "\n",
        "      for images, labels in loaders['val']:\n",
        "        images = images.to(device)\n",
        "        labels = labels.to(device)\n",
        "        pred = self.net(images)\n",
        "        val_loss = self.criterion(pred, labels).item()\n",
        "\n",
        "        self.optimizer.zero_grad()\n",
        "\n",
        "        n_correct = pred.argmax(dim=1).eq(labels).sum().item()\n",
        "        n_images = len(labels)\n",
        "\n",
        "      val_acc = n_correct/n_images\n",
        "      self.val_loss.append(val_loss)\n",
        "      self.val_acc.append(val_acc)\n",
        "\n",
        "      if not silent:\n",
        "        print(f\"Train Loss: {epoch_loss:.4f} | Val Loss: {val_loss:.4f}\")\n",
        "        print(f\"Train Acc: {epoch_acc:.4f} | Val Acc: {val_acc:.4f}\")\n",
        "        print(f\"Epoch Time: {time.time() - epoch_start:.2f}s\\n\")\n",
        "\n",
        "      # Model Checkpoint\n",
        "      if val_loss == min(self.val_loss):\n",
        "        torch.save(self.net.state_dict(), self._path)\n",
        "\n",
        "      # Early Stopping\n",
        "      if early_stop:\n",
        "        # To check last few validation set losses\n",
        "        val_loss_check = self.val_loss[-(patience + 1):]\n",
        "        if (epoch >= patience) and (val_loss_check[0] == min(val_loss_check)):\n",
        "          print(\"Early stopping triggered.\")\n",
        "          break\n",
        "\n",
        "      # Save Results\n",
        "      self.results = self._get_results()\n",
        "\n",
        "  def visualize_results(self):\n",
        "    '''\n",
        "    Method to visualize training curve\n",
        "    '''\n",
        "    if self.results is None:\n",
        "      print(\"Run the model to get results.\")\n",
        "    else:\n",
        "      _, ax = plt.subplots(1, 2, figsize=(14, 5))\n",
        "      self.results[['TrainLoss', 'ValLoss']].plot(ax=ax[0], title='CE Loss')\n",
        "      self.results[['TrainAcc', 'ValAcc']].plot(ax=ax[1], title='Accuracy')"
      ],
      "execution_count": null,
      "outputs": []
    },
    {
      "cell_type": "markdown",
      "metadata": {
        "id": "9jDjg1C4H5hE",
        "colab_type": "text"
      },
      "source": [
        "# Train\n",
        "Idea\n",
        "* Training might be made faster by converting float32 to float16.\n",
        "* Using more feature maps generally improve performance, though training time and model size are adversely affected."
      ]
    },
    {
      "cell_type": "code",
      "metadata": {
        "id": "5opHPGM_H9l5",
        "colab_type": "code",
        "colab": {}
      },
      "source": [
        "# Config\n",
        "net_kwargs = {'conv_c': [32, 64], 'fc_c': [256, 128, 64]}\n",
        "lr = 1e-4\n",
        "batch_size = 32"
      ],
      "execution_count": null,
      "outputs": []
    },
    {
      "cell_type": "code",
      "metadata": {
        "id": "ruf1AVBYHQVV",
        "colab_type": "code",
        "colab": {}
      },
      "source": [
        "# Define loader to allow mini-batch training\n",
        "loaders = {'train': DataLoader(dataset=train, batch_size=batch_size),\n",
        "           'val': DataLoader(dataset=val, batch_size=len(val)),\n",
        "           'test': DataLoader(dataset=test, batch_size=len(test))}"
      ],
      "execution_count": null,
      "outputs": []
    },
    {
      "cell_type": "code",
      "metadata": {
        "id": "dITkbiNBQfFG",
        "colab_type": "code",
        "colab": {
          "base_uri": "https://localhost:8080/",
          "height": 1000
        },
        "outputId": "619cdde9-60b0-4924-9587-2b0673562708"
      },
      "source": [
        "if torch.cuda.is_available():\n",
        "  device = torch.device('cuda:0')\n",
        "else:\n",
        "  device = torch.device('cpu')\n",
        "\n",
        "net = Network(n_classes=10, **net_kwargs).to(device)\n",
        "criterion = nn.CrossEntropyLoss()\n",
        "\n",
        "trainer = NetworkTrainer(net, criterion, device, optimizer='adam')\n",
        "trainer.train(loaders, epochs=50, early_stop=True, patience=8, silent=False)"
      ],
      "execution_count": null,
      "outputs": [
        {
          "output_type": "stream",
          "text": [
            "/usr/local/lib/python3.6/dist-packages/torch/cuda/__init__.py:125: UserWarning: \n",
            "Tesla T4 with CUDA capability sm_75 is not compatible with the current PyTorch installation.\n",
            "The current PyTorch install supports CUDA capabilities sm_37 sm_50 sm_60 sm_70.\n",
            "If you want to use the Tesla T4 GPU with PyTorch, please check the instructions at https://pytorch.org/get-started/locally/\n",
            "\n",
            "  warnings.warn(incompatible_device_warn.format(device_name, capability, \" \".join(arch_list), device_name))\n"
          ],
          "name": "stderr"
        },
        {
          "output_type": "stream",
          "text": [
            "Epoch 1/50\n",
            "----------\n",
            "Train Loss: 0.8328 | Val Loss: 0.5091\n",
            "Train Acc: 0.6959 | Val Acc: 0.8034\n",
            "Epoch Time: 15.50s\n",
            "\n",
            "Epoch 2/50\n",
            "----------\n",
            "Train Loss: 0.5350 | Val Loss: 0.4061\n",
            "Train Acc: 0.8046 | Val Acc: 0.8485\n",
            "Epoch Time: 14.98s\n",
            "\n",
            "Epoch 3/50\n",
            "----------\n",
            "Train Loss: 0.4571 | Val Loss: 0.3594\n",
            "Train Acc: 0.8382 | Val Acc: 0.8668\n",
            "Epoch Time: 15.49s\n",
            "\n",
            "Epoch 4/50\n",
            "----------\n",
            "Train Loss: 0.4099 | Val Loss: 0.3363\n",
            "Train Acc: 0.8542 | Val Acc: 0.8756\n",
            "Epoch Time: 15.10s\n",
            "\n",
            "Epoch 5/50\n",
            "----------\n",
            "Train Loss: 0.3758 | Val Loss: 0.3151\n",
            "Train Acc: 0.8669 | Val Acc: 0.8848\n",
            "Epoch Time: 14.93s\n",
            "\n",
            "Epoch 6/50\n",
            "----------\n",
            "Train Loss: 0.3524 | Val Loss: 0.2959\n",
            "Train Acc: 0.8744 | Val Acc: 0.8916\n",
            "Epoch Time: 15.15s\n",
            "\n",
            "Epoch 7/50\n",
            "----------\n",
            "Train Loss: 0.3333 | Val Loss: 0.2876\n",
            "Train Acc: 0.8814 | Val Acc: 0.8950\n",
            "Epoch Time: 15.45s\n",
            "\n",
            "Epoch 8/50\n",
            "----------\n",
            "Train Loss: 0.3161 | Val Loss: 0.2802\n",
            "Train Acc: 0.8867 | Val Acc: 0.8982\n",
            "Epoch Time: 15.16s\n",
            "\n",
            "Epoch 9/50\n",
            "----------\n",
            "Train Loss: 0.3037 | Val Loss: 0.2704\n",
            "Train Acc: 0.8921 | Val Acc: 0.8998\n",
            "Epoch Time: 15.54s\n",
            "\n",
            "Epoch 10/50\n",
            "----------\n",
            "Train Loss: 0.2883 | Val Loss: 0.2620\n",
            "Train Acc: 0.8971 | Val Acc: 0.9020\n",
            "Epoch Time: 15.15s\n",
            "\n",
            "Epoch 11/50\n",
            "----------\n",
            "Train Loss: 0.2764 | Val Loss: 0.2584\n",
            "Train Acc: 0.9010 | Val Acc: 0.9057\n",
            "Epoch Time: 15.05s\n",
            "\n",
            "Epoch 12/50\n",
            "----------\n",
            "Train Loss: 0.2682 | Val Loss: 0.2514\n",
            "Train Acc: 0.9035 | Val Acc: 0.9073\n",
            "Epoch Time: 15.28s\n",
            "\n",
            "Epoch 13/50\n",
            "----------\n",
            "Train Loss: 0.2558 | Val Loss: 0.2473\n",
            "Train Acc: 0.9076 | Val Acc: 0.9100\n",
            "Epoch Time: 15.26s\n",
            "\n",
            "Epoch 14/50\n",
            "----------\n",
            "Train Loss: 0.2499 | Val Loss: 0.2464\n",
            "Train Acc: 0.9098 | Val Acc: 0.9090\n",
            "Epoch Time: 15.17s\n",
            "\n",
            "Epoch 15/50\n",
            "----------\n",
            "Train Loss: 0.2442 | Val Loss: 0.2427\n",
            "Train Acc: 0.9121 | Val Acc: 0.9114\n",
            "Epoch Time: 14.92s\n",
            "\n",
            "Epoch 16/50\n",
            "----------\n",
            "Train Loss: 0.2353 | Val Loss: 0.2425\n",
            "Train Acc: 0.9136 | Val Acc: 0.9120\n",
            "Epoch Time: 15.67s\n",
            "\n",
            "Epoch 17/50\n",
            "----------\n",
            "Train Loss: 0.2262 | Val Loss: 0.2350\n",
            "Train Acc: 0.9176 | Val Acc: 0.9144\n",
            "Epoch Time: 15.92s\n",
            "\n",
            "Epoch 18/50\n",
            "----------\n",
            "Train Loss: 0.2196 | Val Loss: 0.2350\n",
            "Train Acc: 0.9198 | Val Acc: 0.9135\n",
            "Epoch Time: 15.58s\n",
            "\n",
            "Epoch 19/50\n",
            "----------\n",
            "Train Loss: 0.2134 | Val Loss: 0.2352\n",
            "Train Acc: 0.9221 | Val Acc: 0.9137\n",
            "Epoch Time: 15.28s\n",
            "\n",
            "Epoch 20/50\n",
            "----------\n",
            "Train Loss: 0.2101 | Val Loss: 0.2330\n",
            "Train Acc: 0.9239 | Val Acc: 0.9163\n",
            "Epoch Time: 15.39s\n",
            "\n",
            "Epoch 21/50\n",
            "----------\n",
            "Train Loss: 0.2025 | Val Loss: 0.2295\n",
            "Train Acc: 0.9251 | Val Acc: 0.9170\n",
            "Epoch Time: 15.32s\n",
            "\n",
            "Epoch 22/50\n",
            "----------\n",
            "Train Loss: 0.1998 | Val Loss: 0.2301\n",
            "Train Acc: 0.9267 | Val Acc: 0.9173\n",
            "Epoch Time: 15.25s\n",
            "\n",
            "Epoch 23/50\n",
            "----------\n",
            "Train Loss: 0.1948 | Val Loss: 0.2352\n",
            "Train Acc: 0.9283 | Val Acc: 0.9163\n",
            "Epoch Time: 15.13s\n",
            "\n",
            "Epoch 24/50\n",
            "----------\n",
            "Train Loss: 0.1865 | Val Loss: 0.2315\n",
            "Train Acc: 0.9313 | Val Acc: 0.9173\n",
            "Epoch Time: 15.44s\n",
            "\n",
            "Epoch 25/50\n",
            "----------\n",
            "Train Loss: 0.1809 | Val Loss: 0.2306\n",
            "Train Acc: 0.9335 | Val Acc: 0.9193\n",
            "Epoch Time: 15.33s\n",
            "\n",
            "Epoch 26/50\n",
            "----------\n",
            "Train Loss: 0.1784 | Val Loss: 0.2326\n",
            "Train Acc: 0.9346 | Val Acc: 0.9189\n",
            "Epoch Time: 15.65s\n",
            "\n",
            "Epoch 27/50\n",
            "----------\n",
            "Train Loss: 0.1748 | Val Loss: 0.2353\n",
            "Train Acc: 0.9355 | Val Acc: 0.9193\n",
            "Epoch Time: 15.38s\n",
            "\n",
            "Epoch 28/50\n",
            "----------\n",
            "Train Loss: 0.1693 | Val Loss: 0.2277\n",
            "Train Acc: 0.9381 | Val Acc: 0.9203\n",
            "Epoch Time: 15.20s\n",
            "\n",
            "Epoch 29/50\n",
            "----------\n",
            "Train Loss: 0.1654 | Val Loss: 0.2348\n",
            "Train Acc: 0.9385 | Val Acc: 0.9187\n",
            "Epoch Time: 15.57s\n",
            "\n",
            "Epoch 30/50\n",
            "----------\n",
            "Train Loss: 0.1574 | Val Loss: 0.2377\n",
            "Train Acc: 0.9412 | Val Acc: 0.9205\n",
            "Epoch Time: 15.89s\n",
            "\n",
            "Epoch 31/50\n",
            "----------\n",
            "Train Loss: 0.1595 | Val Loss: 0.2421\n",
            "Train Acc: 0.9421 | Val Acc: 0.9186\n",
            "Epoch Time: 15.58s\n",
            "\n",
            "Epoch 32/50\n",
            "----------\n",
            "Train Loss: 0.1532 | Val Loss: 0.2415\n",
            "Train Acc: 0.9438 | Val Acc: 0.9192\n",
            "Epoch Time: 16.10s\n",
            "\n",
            "Epoch 33/50\n",
            "----------\n",
            "Train Loss: 0.1470 | Val Loss: 0.2453\n",
            "Train Acc: 0.9459 | Val Acc: 0.9199\n",
            "Epoch Time: 16.21s\n",
            "\n",
            "Epoch 34/50\n",
            "----------\n",
            "Train Loss: 0.1438 | Val Loss: 0.2424\n",
            "Train Acc: 0.9456 | Val Acc: 0.9223\n",
            "Epoch Time: 15.91s\n",
            "\n",
            "Epoch 35/50\n",
            "----------\n",
            "Train Loss: 0.1408 | Val Loss: 0.2394\n",
            "Train Acc: 0.9479 | Val Acc: 0.9214\n",
            "Epoch Time: 15.53s\n",
            "\n",
            "Epoch 36/50\n",
            "----------\n",
            "Train Loss: 0.1390 | Val Loss: 0.2435\n",
            "Train Acc: 0.9492 | Val Acc: 0.9223\n",
            "Epoch Time: 15.63s\n",
            "\n",
            "Early stopping triggered.\n"
          ],
          "name": "stdout"
        }
      ]
    },
    {
      "cell_type": "code",
      "metadata": {
        "id": "87hKqYF7Vl3S",
        "colab_type": "code",
        "colab": {}
      },
      "source": [
        "# Save config\n",
        "config = {'lr': lr, 'conv_c': net_kwargs['conv_c'], 'fc_c': net_kwargs['fc_c'],\n",
        "          'batch_size': batch_size}\n",
        "with open(trainer._config_path, 'wb') as f:\n",
        "  pickle.dump(config, f)"
      ],
      "execution_count": null,
      "outputs": []
    },
    {
      "cell_type": "code",
      "metadata": {
        "id": "YDazK8AAJN9d",
        "colab_type": "code",
        "colab": {
          "base_uri": "https://localhost:8080/",
          "height": 350
        },
        "outputId": "b1143b7d-b8ae-4844-95ee-20bce9f260ea"
      },
      "source": [
        "trainer.visualize_results()"
      ],
      "execution_count": null,
      "outputs": [
        {
          "output_type": "display_data",
          "data": {
            "image/png": "[encoded data removed]",
            "text/plain": [
              "<Figure size 1008x360 with 2 Axes>"
            ]
          },
          "metadata": {
            "tags": [],
            "needs_background": "light"
          }
        }
      ]
    },
    {
      "cell_type": "code",
      "metadata": {
        "id": "wVdcIFHTVu9K",
        "colab_type": "code",
        "colab": {
          "base_uri": "https://localhost:8080/",
          "height": 386
        },
        "outputId": "391917a9-2b5a-4df8-c8a9-e4b182cd1e18"
      },
      "source": [
        "trainer.results.tail(10)"
      ],
      "execution_count": null,
      "outputs": [
        {
          "output_type": "execute_result",
          "data": {
            "text/html": [
              "<div>\n",
              "<style scoped>\n",
              "    .dataframe tbody tr th:only-of-type {\n",
              "        vertical-align: middle;\n",
              "    }\n",
              "\n",
              "    .dataframe tbody tr th {\n",
              "        vertical-align: top;\n",
              "    }\n",
              "\n",
              "    .dataframe thead th {\n",
              "        text-align: right;\n",
              "    }\n",
              "</style>\n",
              "<table border=\"1\" class=\"dataframe\">\n",
              "  <thead>\n",
              "    <tr style=\"text-align: right;\">\n",
              "      <th></th>\n",
              "      <th>TrainLoss</th>\n",
              "      <th>TrainAcc</th>\n",
              "      <th>ValLoss</th>\n",
              "      <th>ValAcc</th>\n",
              "    </tr>\n",
              "    <tr>\n",
              "      <th>Epoch</th>\n",
              "      <th></th>\n",
              "      <th></th>\n",
              "      <th></th>\n",
              "      <th></th>\n",
              "    </tr>\n",
              "  </thead>\n",
              "  <tbody>\n",
              "    <tr>\n",
              "      <th>26</th>\n",
              "      <td>0.178432</td>\n",
              "      <td>0.934604</td>\n",
              "      <td>0.232599</td>\n",
              "      <td>0.918917</td>\n",
              "    </tr>\n",
              "    <tr>\n",
              "      <th>27</th>\n",
              "      <td>0.174778</td>\n",
              "      <td>0.935500</td>\n",
              "      <td>0.235314</td>\n",
              "      <td>0.919333</td>\n",
              "    </tr>\n",
              "    <tr>\n",
              "      <th>28</th>\n",
              "      <td>0.169314</td>\n",
              "      <td>0.938083</td>\n",
              "      <td>0.227713</td>\n",
              "      <td>0.920250</td>\n",
              "    </tr>\n",
              "    <tr>\n",
              "      <th>29</th>\n",
              "      <td>0.165405</td>\n",
              "      <td>0.938521</td>\n",
              "      <td>0.234847</td>\n",
              "      <td>0.918667</td>\n",
              "    </tr>\n",
              "    <tr>\n",
              "      <th>30</th>\n",
              "      <td>0.157430</td>\n",
              "      <td>0.941167</td>\n",
              "      <td>0.237728</td>\n",
              "      <td>0.920500</td>\n",
              "    </tr>\n",
              "    <tr>\n",
              "      <th>31</th>\n",
              "      <td>0.159499</td>\n",
              "      <td>0.942104</td>\n",
              "      <td>0.242054</td>\n",
              "      <td>0.918583</td>\n",
              "    </tr>\n",
              "    <tr>\n",
              "      <th>32</th>\n",
              "      <td>0.153203</td>\n",
              "      <td>0.943792</td>\n",
              "      <td>0.241451</td>\n",
              "      <td>0.919167</td>\n",
              "    </tr>\n",
              "    <tr>\n",
              "      <th>33</th>\n",
              "      <td>0.147040</td>\n",
              "      <td>0.945917</td>\n",
              "      <td>0.245347</td>\n",
              "      <td>0.919917</td>\n",
              "    </tr>\n",
              "    <tr>\n",
              "      <th>34</th>\n",
              "      <td>0.143808</td>\n",
              "      <td>0.945604</td>\n",
              "      <td>0.242374</td>\n",
              "      <td>0.922333</td>\n",
              "    </tr>\n",
              "    <tr>\n",
              "      <th>35</th>\n",
              "      <td>0.140792</td>\n",
              "      <td>0.947937</td>\n",
              "      <td>0.239432</td>\n",
              "      <td>0.921417</td>\n",
              "    </tr>\n",
              "  </tbody>\n",
              "</table>\n",
              "</div>"
            ],
            "text/plain": [
              "       TrainLoss  TrainAcc   ValLoss    ValAcc\n",
              "Epoch                                         \n",
              "26      0.178432  0.934604  0.232599  0.918917\n",
              "27      0.174778  0.935500  0.235314  0.919333\n",
              "28      0.169314  0.938083  0.227713  0.920250\n",
              "29      0.165405  0.938521  0.234847  0.918667\n",
              "30      0.157430  0.941167  0.237728  0.920500\n",
              "31      0.159499  0.942104  0.242054  0.918583\n",
              "32      0.153203  0.943792  0.241451  0.919167\n",
              "33      0.147040  0.945917  0.245347  0.919917\n",
              "34      0.143808  0.945604  0.242374  0.922333\n",
              "35      0.140792  0.947937  0.239432  0.921417"
            ]
          },
          "metadata": {
            "tags": []
          },
          "execution_count": 23
        }
      ]
    },
    {
      "cell_type": "code",
      "metadata": {
        "id": "Kx1WwUXKkwe9",
        "colab_type": "code",
        "colab": {
          "base_uri": "https://localhost:8080/",
          "height": 34
        },
        "outputId": "5357accf-b568-44df-8ffd-383a31f36f26"
      },
      "source": [
        "print(f\"Number of Parameters: {sum(p.numel() for p in net.parameters())}\")"
      ],
      "execution_count": null,
      "outputs": [
        {
          "output_type": "stream",
          "text": [
            "Number of Parameters: 1142730\n"
          ],
          "name": "stdout"
        }
      ]
    },
    {
      "cell_type": "markdown",
      "metadata": {
        "id": "gvWqUH8i9Vmy",
        "colab_type": "text"
      },
      "source": [
        "# Evaluate Test Set"
      ]
    },
    {
      "cell_type": "code",
      "metadata": {
        "id": "dvYuD73I4U_b",
        "colab_type": "code",
        "colab": {
          "base_uri": "https://localhost:8080/",
          "height": 34
        },
        "outputId": "b7945b41-03b1-4063-b25e-bc9aad22efad"
      },
      "source": [
        "load_saved_model = False\n",
        "\n",
        "models = glob.glob('./models/*.pt')\n",
        "print(models)"
      ],
      "execution_count": null,
      "outputs": [
        {
          "output_type": "stream",
          "text": [
            "['./models/1596373718.pt']\n"
          ],
          "name": "stdout"
        }
      ]
    },
    {
      "cell_type": "code",
      "metadata": {
        "id": "aUzWRdnjyV4s",
        "colab_type": "code",
        "colab": {
          "base_uri": "https://localhost:8080/",
          "height": 34
        },
        "outputId": "5b108bc1-509e-432f-9561-b961850903dc"
      },
      "source": [
        "net = copy.deepcopy(trainer.net)\n",
        "\n",
        "if load_saved_model:\n",
        "  net.load_state_dict(torch.load(models[-1]))\n",
        "\n",
        "for images, labels in loaders['test']:\n",
        "  images = images.to(device)\n",
        "  labels = labels.to(device)\n",
        "  pred = net(images)\n",
        "  test_loss = trainer.criterion(pred, labels).item()\n",
        "\n",
        "  trainer.optimizer.zero_grad()\n",
        "\n",
        "  n_correct = pred.argmax(dim=1).eq(labels).sum().item()\n",
        "  n_images = len(labels)\n",
        "\n",
        "test_acc = n_correct/n_images\n",
        "print(f\"Test Loss: {test_loss:.4f} | Test Acc: {test_acc:.4f}\")"
      ],
      "execution_count": null,
      "outputs": [
        {
          "output_type": "stream",
          "text": [
            "Test Loss: 0.2652 | Test Acc: 0.9175\n"
          ],
          "name": "stdout"
        }
      ]
    },
    {
      "cell_type": "markdown",
      "metadata": {
        "id": "928NvrS7DPfW",
        "colab_type": "text"
      },
      "source": [
        "# Ensemble (Optional)"
      ]
    },
    {
      "cell_type": "code",
      "metadata": {
        "id": "d19e0NlkcBcA",
        "colab_type": "code",
        "colab": {}
      },
      "source": [
        "X = np.array([np.array(x[0]).ravel() for x in data])\n",
        "y = np.array([x[1] for x in data])\n",
        "\n",
        "X_test = np.array([np.array(x[0]).ravel() for x in test])\n",
        "y_test = np.array([x[1] for x in test])"
      ],
      "execution_count": null,
      "outputs": []
    },
    {
      "cell_type": "code",
      "metadata": {
        "id": "gHn3OeL6jPgX",
        "colab_type": "code",
        "colab": {}
      },
      "source": [
        "train_rf = False\n",
        "save_rf = False"
      ],
      "execution_count": null,
      "outputs": []
    },
    {
      "cell_type": "markdown",
      "metadata": {
        "id": "qLEMqqaBiYgf",
        "colab_type": "text"
      },
      "source": [
        "## CNN"
      ]
    },
    {
      "cell_type": "code",
      "metadata": {
        "id": "AEPXyvgDzlqz",
        "colab_type": "code",
        "colab": {}
      },
      "source": [
        "pred_cnn = np.array(F.softmax(pred, dim=1).detach().cpu())"
      ],
      "execution_count": null,
      "outputs": []
    },
    {
      "cell_type": "markdown",
      "metadata": {
        "id": "-xpbIev8drL2",
        "colab_type": "text"
      },
      "source": [
        "## Random Forest Classifier\n",
        "Random Forest model could be very large (100M+) and training time is slow. Not recommended unless a small boost in performance is critical. Ensembles on average perform 0.0-0.5% better than CNN by itself.\n",
        "\n",
        "Here, the number of estimators is 100, and provides a decent performance boost. Number of estimators may be increased given the tradeoff is well-understood."
      ]
    },
    {
      "cell_type": "code",
      "metadata": {
        "id": "IFxo8OkIcCII",
        "colab_type": "code",
        "colab": {}
      },
      "source": [
        "from sklearn.ensemble import RandomForestClassifier\n",
        "\n",
        "if train_rf or not os.path.exists('./models/randomforest.sav'):\n",
        "  start_time = time.time()\n",
        "  rf = RandomForestClassifier(criterion='entropy', n_estimators=100,\n",
        "                              max_depth=50, n_jobs=-1)\n",
        "  rf.fit(X, y)\n",
        "  pred_rf = rf.predict_proba(X_test)\n",
        "  end_time = time.time()\n",
        "  print(f\"Elapsed: {end_time - start_time:.2f}s\")\n",
        "\n",
        "  if save_rf:\n",
        "    with open('./models/randomforest.sav', 'wb') as f:\n",
        "      pickle.dump(rf, f)\n",
        "else:\n",
        "  with open('./models/randomforest.sav', 'rb') as f:\n",
        "    rf = pickle.load(f)\n",
        "    pred_rf = rf.predict_proba(X_test)"
      ],
      "execution_count": null,
      "outputs": []
    },
    {
      "cell_type": "markdown",
      "metadata": {
        "id": "g6OzRSFEieyc",
        "colab_type": "text"
      },
      "source": [
        "## Combined"
      ]
    },
    {
      "cell_type": "code",
      "metadata": {
        "id": "yINHB9y4eajR",
        "colab_type": "code",
        "colab": {}
      },
      "source": [
        "ens_acc = np.mean(np.argmax(pred_cnn + pred_rf, axis=1) == y_test)"
      ],
      "execution_count": null,
      "outputs": []
    },
    {
      "cell_type": "code",
      "metadata": {
        "id": "aUSQXD5peyr4",
        "colab_type": "code",
        "colab": {
          "base_uri": "https://localhost:8080/",
          "height": 34
        },
        "outputId": "cb183af0-6ad7-4ce2-8694-80c401ba6fe0"
      },
      "source": [
        "print(f\"Ensemble Acc: {ens_acc:.4f}\")"
      ],
      "execution_count": null,
      "outputs": [
        {
          "output_type": "stream",
          "text": [
            "Ensemble Acc: 0.9161\n"
          ],
          "name": "stdout"
        }
      ]
    },
    {
      "cell_type": "code",
      "metadata": {
        "id": "MlcnGd22fCUh",
        "colab_type": "code",
        "colab": {}
      },
      "source": [
        ""
      ],
      "execution_count": null,
      "outputs": []
    }
  ]
}
